{
 "cells": [
  {
   "cell_type": "markdown",
   "metadata": {},
   "source": [
    "# Data"
   ]
  },
  {
   "cell_type": "markdown",
   "metadata": {},
   "source": [
    "There are 194,673 observations and 38 variables in this data set. Since we would like to identify the factors that cause the accident and the level of severity, we will use SEVERITYCODE as our dependent variable Y, and try different combinations of independent variables X to get the result. Since the observations are quite large, we may need to filter out the missing value and delete the unrelated columns first. Then we can select the factor which may have more impact on the accidents, such as address type, weather, road condition, and light condition.\n",
    "\n",
    "The target Data to be predicted under (SEVERITYCODE 1-prop damage 2-injury) label.\n",
    "\n",
    "Other important variables include:\n",
    "* ADDRTYPE: Collision address type: Alley, Block, Intersection\n",
    "* LOCATION: Description of the general location of the collision\n",
    "* PERSONCOUNT: The total number of people involved in the collision helps identify severity involved\n",
    "* PEDCOUNT: The number of pedestrians involved in the collision helps identify severity involved\n",
    "* PEDCYLCOUNT: The number of bicycles involved in the collision helps identify severity involved\n",
    "* VEHCOUNT: The number of vehicles involved in the collision identify severity involved\n",
    "* JUNCTIONTYPE: Category of junction at which collision took place helps identify where most collisions occur\n",
    "* WEATHER: A description of the weather conditions during the time of the collision\n",
    "* ROADCOND: The condition of the road during the collision\n",
    "* LIGHTCOND: The light conditions during the collision\n",
    "* SPEEDING: Whether or not speeding was a factor in the collision (Y/N)\n",
    "* SEGLANEKEY: A key for the lane segment in which the collision occurred\n",
    "* CROSSWALKKEY: A key for the crosswalk at which the collision occurred\n",
    "* HITPARKEDCAR: Whether or not the collision involved hitting a parked car"
   ]
  },
  {
   "cell_type": "code",
   "execution_count": null,
   "metadata": {},
   "outputs": [],
   "source": []
  }
 ],
 "metadata": {
  "kernelspec": {
   "display_name": "Python 3",
   "language": "python",
   "name": "python3"
  },
  "language_info": {
   "codemirror_mode": {
    "name": "ipython",
    "version": 3
   },
   "file_extension": ".py",
   "mimetype": "text/x-python",
   "name": "python",
   "nbconvert_exporter": "python",
   "pygments_lexer": "ipython3",
   "version": "3.8.3"
  }
 },
 "nbformat": 4,
 "nbformat_minor": 4
}
